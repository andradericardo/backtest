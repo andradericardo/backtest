{
 "cells": [
  {
   "cell_type": "code",
   "execution_count": 18,
   "metadata": {},
   "outputs": [
    {
     "name": "stdout",
     "output_type": "stream",
     "text": [
      "Fund: loading from file: nucleo\n",
      "Fund: loading from file: dynamo_cougar\n",
      "Fund: loading from file: velt\n",
      "Fund: loading from file: spx_falcon\n",
      "Fund: loading from file: atmos\n",
      "Fund: loading from file: squadra\n"
     ]
    }
   ],
   "source": [
    "import pandas as pd\r\n",
    "\r\n",
    "from backtest import analysis as an\r\n",
    "from backtest.data import get_fund\r\n",
    "\r\n",
    "pd.options.display.float_format = '{:,.2f}'.format\r\n",
    "\r\n",
    "NAME = \"FULL_backtest_85long_5short\"\r\n",
    "infos = [\"nav\", \"benchmark\"]\r\n",
    "PEERS = {\r\n",
    "    \"nucleo\": \"14.138.786/0001-12\",\r\n",
    "    \"dynamo_cougar\": \"73.232.530/0001-39\",\r\n",
    "    \"velt\": \"08.927.452/0001-25\",\r\n",
    "    \"spx_falcon\": \"15.831.948/0001-66\",\r\n",
    "    \"atmos\": \"11.188.572/0001-62\",\r\n",
    "    \"squadra\": \"09.412.648/0001-40\"\r\n",
    "}\r\n",
    "\r\n",
    "\r\n",
    "data = an.import_data(NAME, infos)\r\n",
    "\r\n",
    "nav = data[\"nav\"]\r\n",
    "benchmark = data[\"benchmark\"]\r\n",
    "\r\n",
    "start = nav.index[0]\r\n",
    "end = nav.index[-1]\r\n",
    "\r\n",
    "peers_df = list()\r\n",
    "for name, cnpj in PEERS.items():\r\n",
    "    df = get_fund(start.date(), end.date(), cnpj, name, calendar=None, replace=False)\r\n",
    "    #df.name = name\r\n",
    "    peers_df.append(df)"
   ]
  },
  {
   "cell_type": "code",
   "execution_count": 21,
   "metadata": {},
   "outputs": [
    {
     "data": {
      "text/html": "<div>\n<style scoped>\n    .dataframe tbody tr th:only-of-type {\n        vertical-align: middle;\n    }\n\n    .dataframe tbody tr th {\n        vertical-align: top;\n    }\n\n    .dataframe thead th {\n        text-align: right;\n    }\n</style>\n<table border=\"1\" class=\"dataframe\">\n  <thead>\n    <tr style=\"text-align: right;\">\n      <th></th>\n      <th>nucleo</th>\n      <th>dynamo_cougar</th>\n      <th>velt</th>\n      <th>spx_falcon</th>\n      <th>atmos</th>\n      <th>squadra</th>\n      <th>FULL_backtest_85long_5short</th>\n    </tr>\n    <tr>\n      <th>date</th>\n      <th></th>\n      <th></th>\n      <th></th>\n      <th></th>\n      <th></th>\n      <th></th>\n      <th></th>\n    </tr>\n  </thead>\n  <tbody>\n    <tr>\n      <th>2021-01-18</th>\n      <td>6.95</td>\n      <td>1,720.86</td>\n      <td>11.78</td>\n      <td>3.77</td>\n      <td>1,366.57</td>\n      <td>1,392.37</td>\n      <td>3.81</td>\n    </tr>\n    <tr>\n      <th>2021-01-19</th>\n      <td>6.99</td>\n      <td>1,730.94</td>\n      <td>11.79</td>\n      <td>3.77</td>\n      <td>1,372.49</td>\n      <td>1,405.81</td>\n      <td>3.78</td>\n    </tr>\n    <tr>\n      <th>2021-01-20</th>\n      <td>6.97</td>\n      <td>1,722.64</td>\n      <td>11.82</td>\n      <td>3.76</td>\n      <td>1,362.24</td>\n      <td>1,393.98</td>\n      <td>3.74</td>\n    </tr>\n    <tr>\n      <th>2021-01-21</th>\n      <td>6.87</td>\n      <td>1,697.50</td>\n      <td>11.68</td>\n      <td>3.73</td>\n      <td>1,344.31</td>\n      <td>1,380.46</td>\n      <td>3.71</td>\n    </tr>\n    <tr>\n      <th>2021-01-22</th>\n      <td>6.83</td>\n      <td>1,685.38</td>\n      <td>11.66</td>\n      <td>3.71</td>\n      <td>1,337.91</td>\n      <td>1,383.46</td>\n      <td>3.70</td>\n    </tr>\n    <tr>\n      <th>2021-01-25</th>\n      <td>6.76</td>\n      <td>1,673.02</td>\n      <td>11.62</td>\n      <td>3.71</td>\n      <td>1,338.69</td>\n      <td>1,380.61</td>\n      <td>3.70</td>\n    </tr>\n    <tr>\n      <th>2021-01-26</th>\n      <td>6.70</td>\n      <td>1,667.68</td>\n      <td>11.61</td>\n      <td>3.66</td>\n      <td>1,350.55</td>\n      <td>1,385.33</td>\n      <td>3.66</td>\n    </tr>\n    <tr>\n      <th>2021-01-27</th>\n      <td>6.60</td>\n      <td>1,640.21</td>\n      <td>11.41</td>\n      <td>3.64</td>\n      <td>1,323.84</td>\n      <td>1,370.31</td>\n      <td>3.65</td>\n    </tr>\n    <tr>\n      <th>2021-01-28</th>\n      <td>6.88</td>\n      <td>1,687.54</td>\n      <td>11.75</td>\n      <td>3.69</td>\n      <td>1,357.07</td>\n      <td>1,395.33</td>\n      <td>3.72</td>\n    </tr>\n    <tr>\n      <th>2021-01-29</th>\n      <td>6.68</td>\n      <td>1,637.81</td>\n      <td>11.46</td>\n      <td>3.65</td>\n      <td>1,318.54</td>\n      <td>1,367.80</td>\n      <td>3.64</td>\n    </tr>\n  </tbody>\n</table>\n</div>",
      "text/plain": "            nucleo  dynamo_cougar  velt  spx_falcon    atmos  squadra  \\\ndate                                                                    \n2021-01-18    6.95       1,720.86 11.78        3.77 1,366.57 1,392.37   \n2021-01-19    6.99       1,730.94 11.79        3.77 1,372.49 1,405.81   \n2021-01-20    6.97       1,722.64 11.82        3.76 1,362.24 1,393.98   \n2021-01-21    6.87       1,697.50 11.68        3.73 1,344.31 1,380.46   \n2021-01-22    6.83       1,685.38 11.66        3.71 1,337.91 1,383.46   \n2021-01-25    6.76       1,673.02 11.62        3.71 1,338.69 1,380.61   \n2021-01-26    6.70       1,667.68 11.61        3.66 1,350.55 1,385.33   \n2021-01-27    6.60       1,640.21 11.41        3.64 1,323.84 1,370.31   \n2021-01-28    6.88       1,687.54 11.75        3.69 1,357.07 1,395.33   \n2021-01-29    6.68       1,637.81 11.46        3.65 1,318.54 1,367.80   \n\n            FULL_backtest_85long_5short  \ndate                                     \n2021-01-18                         3.81  \n2021-01-19                         3.78  \n2021-01-20                         3.74  \n2021-01-21                         3.71  \n2021-01-22                         3.70  \n2021-01-25                         3.70  \n2021-01-26                         3.66  \n2021-01-27                         3.65  \n2021-01-28                         3.72  \n2021-01-29                         3.64  "
     },
     "execution_count": 21,
     "metadata": {},
     "output_type": "execute_result"
    }
   ],
   "source": [
    "df = pd.concat(peers_df + [nav], axis=1).fillna(method=\"ffill\")\r\n",
    "df."
   ]
  }
 ],
 "metadata": {
  "kernelspec": {
   "display_name": "Python 3.7.9 64-bit ('venv')",
   "metadata": {
    "interpreter": {
     "hash": "d4c1abdb5ad404a152d934d026e0a7e7386aaf65b1aa53cde971f09ccbae3c24"
    }
   },
   "name": "python3"
  },
  "language_info": {
   "codemirror_mode": {
    "name": "ipython",
    "version": 3
   },
   "file_extension": ".py",
   "mimetype": "text/x-python",
   "name": "python",
   "nbconvert_exporter": "python",
   "pygments_lexer": "ipython3",
   "version": "3.7.9"
  },
  "orig_nbformat": 2
 },
 "nbformat": 4,
 "nbformat_minor": 2
}