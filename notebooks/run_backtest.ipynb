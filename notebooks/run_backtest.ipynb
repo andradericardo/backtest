{
 "cells": [
  {
   "cell_type": "code",
   "execution_count": 1,
   "metadata": {},
   "outputs": [
    {
     "name": "stderr",
     "output_type": "stream",
     "text": [
      "\n"
     ]
    },
    {
     "name": "stdout",
     "output_type": "stream",
     "text": [
      "Series: downloading: risk_free_rate\n",
      "Series: downloading: ibovespa\n",
      "Fund: downloading: amago_master\n"
     ]
    }
   ],
   "source": [
    "import json\r\n",
    "from backtest.backtest import Backtest\r\n",
    "from backtest.data import CSVData, RiskFree, MarketIndex, Fund, ingest_series\r\n",
    "from backtest.data import ingest_data, get_series, get_fund\r\n",
    "from backtest.run import run\r\n",
    "from backtest.analysis import Analytics\r\n",
    "import datetime as dt\r\n",
    "\r\n",
    "import pandas as pd\r\n",
    "pd.options.display.float_format = '{:,.2f}'.format\r\n",
    "\r\n",
    "from exclusion import EXCLUDED\r\n",
    "\r\n",
    "REBALANCE_DATES = [\r\n",
    "    dt.date(1904,3,31), \r\n",
    "    dt.date(1904,5,15), \r\n",
    "    dt.date(1904,8,14), \r\n",
    "    dt.date(1904,11,14)]\r\n",
    "\r\n",
    "AVERAGE_VOLUME_ROLLING_WINDOW = 63\r\n",
    "MINIMUM_AVERAGE_VOLUME = 10000000\r\n",
    "\r\n",
    "\r\n",
    "class Amago(Backtest):\r\n",
    "\r\n",
    "    def calculate_support_index(self):\r\n",
    "        average_volume = self.volume.rolling(AVERAGE_VOLUME_ROLLING_WINDOW).mean()\r\n",
    "        self.average_volume = average_volume\r\n",
    "\r\n",
    "        tmp = self.mkt_portfolio.copy()\r\n",
    "        tmp = tmp.T\r\n",
    "        tmp.loc[:,\"sector\"] = self.sectors.amago_sector.reindex(tmp.index)\r\n",
    "        tmp = tmp.groupby(\"sector\").sum().T\r\n",
    "        tmp.index = pd.to_datetime(tmp.index)\r\n",
    "        tmp = tmp.reindex(self.calendar)\r\n",
    "        self.mkt_portfolio_sectors = tmp\r\n",
    "\r\n",
    "\r\n",
    "    def check_rebalance(self):\r\n",
    "        current_date = dt.date(1904, self.date.month, self.date.day)\r\n",
    "        previous_date = dt.date(1904, self.previous_date.month, self.previous_date.day)\r\n",
    "        for rebalance_date in REBALANCE_DATES:\r\n",
    "            if previous_date < rebalance_date and current_date >= rebalance_date:\r\n",
    "                return True\r\n",
    "        return False\r\n",
    "    \r\n",
    "    \r\n",
    "    def open_strategy(self):\r\n",
    "        # _open_strategy: calculates orders to be entered in opening auction\r\n",
    "        c1 = self.day==1\r\n",
    "        c2 = self.check_rebalance()\r\n",
    "        c3 = self.date.week != self.previous_date.week\r\n",
    "        if c1 or c2 or c3:\r\n",
    "            long, short = self.strategy()\r\n",
    "            self.allocate(long, short)\r\n",
    "            \r\n",
    "    def close_strategy(self):\r\n",
    "        pass\r\n",
    "\r\n",
    "\r\n",
    "    def strategy(self):\r\n",
    "        # First lets allocate Financials and Real Estate\r\n",
    "        number_financials = 4\r\n",
    "        number_realestate = 1\r\n",
    "\r\n",
    "        mkt_port = self.mkt_portfolio.loc[self.date]\r\n",
    "        mkt_port = mkt_port[mkt_port>0]\r\n",
    "        mkt_port.name = \"share\"\r\n",
    "        sector = self.sectors.reindex(mkt_port.index).amago_sector\r\n",
    "        vol = self.average_volume.loc[self.date].reindex(mkt_port.index)\r\n",
    "        vol.name = \"volume\"\r\n",
    "        df = pd.concat([mkt_port, sector, vol], axis=1).sort_values(\"volume\", ascending=False)\r\n",
    "\r\n",
    "        target_financials = df.groupby(\"amago_sector\").sum().loc[\"Financials\"].share\r\n",
    "        pct_financials = target_financials / number_financials\r\n",
    "\r\n",
    "        target_realestate = df.groupby(\"amago_sector\").sum().loc[\"Real Estate\"].share\r\n",
    "        pct_realestate = target_realestate / number_realestate\r\n",
    "\r\n",
    "        long_financials = list(df[df[\"amago_sector\"]==\"Financials\"].index)[0:number_financials]\r\n",
    "        long_realestate = list(df[df[\"amago_sector\"]==\"Real Estate\"].index)[0:number_realestate]\r\n",
    "\r\n",
    "        long = [(long,pct_financials) for long in long_financials]\r\n",
    "        long += [(long,pct_realestate) for long in long_realestate]\r\n",
    "        short = []\r\n",
    "\r\n",
    "        number_long = self.number_long - number_financials - number_realestate\r\n",
    "        number_short = self.number_short\r\n",
    "\r\n",
    "        percentage_long = (self.target_long - target_financials - target_realestate) / number_long\r\n",
    "        percentage_short = -self.target_short / number_short\r\n",
    "\r\n",
    "        # Now lets allocate the rest of the portfolio\r\n",
    "        recom = self.recommendations.loc[self.date]\r\n",
    "        recom.name = \"recommendation\"\r\n",
    "        score = self.score.loc[self.date]\r\n",
    "        score.name = \"score\"\r\n",
    "        vol = self.average_volume.loc[self.date]\r\n",
    "        vol.name = \"volume\"\r\n",
    "        df = pd.concat([recom, score, vol], axis=1)\r\n",
    "\r\n",
    "        # Get only the most liquid security for each company\r\n",
    "        df[\"asset\"] = df.index.str[0:4]\r\n",
    "        df = df.sort_values(\"volume\", na_position=\"first\").reset_index()\r\n",
    "        df = df.groupby(\"asset\").tail(1).set_index(\"ticker\")\r\n",
    "\r\n",
    "        # get long\r\n",
    "        df = df.sort_values([\"recommendation\", \"score\", \"volume\"], ascending=[False, False, False])\r\n",
    "        df_filter = df[df[\"volume\"] > MINIMUM_AVERAGE_VOLUME]\r\n",
    "        long_tickers = [ticker for ticker in df_filter.index]\r\n",
    "        # excludes restricted sectors\r\n",
    "        long_tickers = [ticker for ticker in long_tickers if ticker not in EXCLUDED]\r\n",
    "        long_tickers = long_tickers[0:number_long]\r\n",
    "        long += [(ticker,percentage_long) for ticker in long_tickers]\r\n",
    "\r\n",
    "        # get short\r\n",
    "        df = df.sort_values([\"recommendation\", \"score\", \"volume\"], ascending=[True, True, False])\r\n",
    "        df_filter = df[(df[\"volume\"] > MINIMUM_AVERAGE_VOLUME) & (df[\"recommendation\"]==-1)]\r\n",
    "        short_tickers = [ticker for ticker in df_filter.index if ticker not in long_tickers]\r\n",
    "        # excludes restricted sectors\r\n",
    "        short_tickers = [ticker for ticker in short_tickers if ticker not in EXCLUDED]\r\n",
    "        short_tickers = short_tickers[0:number_short]\r\n",
    "        short += [(ticker,percentage_short) for ticker in short_tickers]\r\n",
    "\r\n",
    "        return long, short\r\n",
    "\r\n",
    "\r\n",
    "data = ingest_data(config=\"config_test.json\", data=CSVData)\r\n",
    "series = ingest_series(config=\"config_test.json\")"
   ]
  },
  {
   "cell_type": "code",
   "execution_count": 2,
   "metadata": {},
   "outputs": [
    {
     "name": "stderr",
     "output_type": "stream",
     "text": [
      "\n"
     ]
    },
    {
     "name": "stdout",
     "output_type": "stream",
     "text": [
      "Loading: config_test.json\n",
      "Starting simulation: Backtest_95long_5short\n",
      "Done! Backtest_95long_5short\n"
     ]
    }
   ],
   "source": [
    "backtest = run(amago=Amago, data_obj=data, series=series, config=\"config_test.json\", test=True)\n"
   ]
  },
  {
   "cell_type": "code",
   "execution_count": 3,
   "metadata": {},
   "outputs": [
    {
     "name": "stdout",
     "output_type": "stream",
     "text": [
      "Change in nav: 54.79171760943069\n",
      "Sum of attributions: 54.791717609430656\n",
      "Difference: 3.3306690738754696e-16\n"
     ]
    }
   ],
   "source": [
    "value = backtest.value.eod\n",
    "attribution = backtest.attribution\n",
    "start = value.index[0]\n",
    "end = value.index[-1]\n",
    "nav = value.loc[end] / value.loc[start] - 1\n",
    "attr = attribution.sum().sum()\n",
    "print(\"Change in nav:\", 100*nav)\n",
    "print(\"Sum of attributions:\", 100*attr)\n",
    "print(\"Difference:\", nav - attr)"
   ]
  },
  {
   "cell_type": "code",
   "execution_count": 4,
   "metadata": {},
   "outputs": [
    {
     "data": {
      "text/html": "<div>\n<style scoped>\n    .dataframe tbody tr th:only-of-type {\n        vertical-align: middle;\n    }\n\n    .dataframe tbody tr th {\n        vertical-align: top;\n    }\n\n    .dataframe thead th {\n        text-align: right;\n    }\n</style>\n<table border=\"1\" class=\"dataframe\">\n  <thead>\n    <tr style=\"text-align: right;\">\n      <th></th>\n      <th>day</th>\n      <th>date</th>\n      <th>order_type</th>\n      <th>ticker</th>\n      <th>quantity</th>\n      <th>price</th>\n      <th>value</th>\n      <th>commission</th>\n      <th>cost</th>\n      <th>status</th>\n      <th>purpose</th>\n      <th>message</th>\n      <th>amount</th>\n    </tr>\n  </thead>\n  <tbody>\n    <tr>\n      <th>2248</th>\n      <td>585</td>\n      <td>2020-08-14</td>\n      <td>sell</td>\n      <td>SMTO3</td>\n      <td>-38,600.00</td>\n      <td>24.90</td>\n      <td>-961,140.00</td>\n      <td>961.14</td>\n      <td>-960,178.86</td>\n      <td>completed</td>\n      <td>close long</td>\n      <td>NaN</td>\n      <td>38,600.00</td>\n    </tr>\n    <tr>\n      <th>2252</th>\n      <td>585</td>\n      <td>2020-08-14</td>\n      <td>sell</td>\n      <td>SMTO3</td>\n      <td>-5,400.00</td>\n      <td>24.90</td>\n      <td>-134,460.00</td>\n      <td>134.46</td>\n      <td>-134,325.54</td>\n      <td>completed</td>\n      <td>enter short</td>\n      <td>NaN</td>\n      <td>5,400.00</td>\n    </tr>\n  </tbody>\n</table>\n</div>",
      "text/plain": "      day       date order_type ticker   quantity  price       value  \\\n2248  585 2020-08-14       sell  SMTO3 -38,600.00  24.90 -961,140.00   \n2252  585 2020-08-14       sell  SMTO3  -5,400.00  24.90 -134,460.00   \n\n      commission        cost     status      purpose message    amount  \n2248      961.14 -960,178.86  completed   close long     NaN 38,600.00  \n2252      134.46 -134,325.54  completed  enter short     NaN  5,400.00  "
     },
     "execution_count": 4,
     "metadata": {},
     "output_type": "execute_result"
    }
   ],
   "source": [
    "#backtest.orders[backtest.orders.ticker==\"CMIG4\"]\r\n",
    "c_date = backtest.orders.date==\"2020-08-14\"\r\n",
    "c_ticker = backtest.orders.ticker==\"SMTO3\"\r\n",
    "c_status = backtest.orders.status==\"completed\"\r\n",
    "backtest.orders[c_date & c_ticker & c_status]"
   ]
  }
 ],
 "metadata": {
  "kernelspec": {
   "display_name": "Python 3.7.9  ('venv': venv)",
   "metadata": {
    "interpreter": {
     "hash": "d4c1abdb5ad404a152d934d026e0a7e7386aaf65b1aa53cde971f09ccbae3c24"
    }
   },
   "name": "python3"
  },
  "language_info": {
   "codemirror_mode": {
    "name": "ipython",
    "version": 3
   },
   "file_extension": ".py",
   "mimetype": "text/x-python",
   "name": "python",
   "nbconvert_exporter": "python",
   "pygments_lexer": "ipython3",
   "version": "3.7.9"
  }
 },
 "nbformat": 4,
 "nbformat_minor": 4
}